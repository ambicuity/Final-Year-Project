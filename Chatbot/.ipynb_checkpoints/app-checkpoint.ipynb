{
 "cells": [
  {
   "cell_type": "code",
   "execution_count": 1,
   "metadata": {},
   "outputs": [],
   "source": [
    "\n",
    "import pandas as pd\n",
    "\n",
    "import os\n",
    "from sklearn.svm import SVC\n",
    "from sklearn.model_selection import train_test_split as tts\n",
    "from sklearn.feature_extraction.text import TfidfVectorizer\n",
    "from sklearn.preprocessing import LabelEncoder as LE\n",
    "from sklearn.metrics.pairwise import cosine_similarity\n",
    "\n",
    "import nltk\n",
    "from nltk.corpus import stopwords\n",
    "import datetime\n",
    "\n",
    "import speech_recognition as sr\n",
    "import pyttsx3 \n",
    "import pyaudio\n",
    "import pickle"
   ]
  },
  {
   "cell_type": "code",
   "execution_count": 2,
   "metadata": {},
   "outputs": [],
   "source": [
    "#data\n",
    "\n",
    "data = pd.read_csv(\"FormattedDataset (1).csv\", encoding = \"ISO-8859-1\", engine='python')\n",
    "\n",
    "#data.drop(['Unnamed: 3', 'Unnamed: 4'], axis = 1, inplace=True)\n",
    "\n",
    "data.columns = ['Question','Answer','Class']\n",
    "\n",
    "questions = data['Question'].values\n",
    "\n"
   ]
  },
  {
   "cell_type": "code",
   "execution_count": 3,
   "metadata": {},
   "outputs": [],
   "source": [
    "stop_words = set(stopwords.words('english'))\n",
    "\n",
    "def cleanup(sentence):\n",
    "    \n",
    "    word_tok = nltk.word_tokenize(sentence)\n",
    "    stemmed_words = [w for w in word_tok if not w in stop_words]\n",
    "    return ' '.join(stemmed_words)\n",
    "    "
   ]
  },
  {
   "cell_type": "code",
   "execution_count": 4,
   "metadata": {},
   "outputs": [],
   "source": [
    "X = []\n",
    "\n",
    "for question in questions:\n",
    "    X.append(cleanup(str(question)))"
   ]
  },
  {
   "cell_type": "code",
   "execution_count": 5,
   "metadata": {},
   "outputs": [],
   "source": [
    "#loading model\n",
    "\n",
    "with open('model_pkl' , 'rb') as f:\n",
    "    model = pickle.load(f)"
   ]
  },
  {
   "cell_type": "code",
   "execution_count": 6,
   "metadata": {},
   "outputs": [
    {
     "name": "stderr",
     "output_type": "stream",
     "text": [
      "2022-03-20 16:40:17.209619: W tensorflow/stream_executor/platform/default/dso_loader.cc:64] Could not load dynamic library 'libcudart.so.11.0'; dlerror: libcudart.so.11.0: cannot open shared object file: No such file or directory\n",
      "2022-03-20 16:40:17.209692: I tensorflow/stream_executor/cuda/cudart_stub.cc:29] Ignore above cudart dlerror if you do not have a GPU set up on your machine.\n"
     ]
    },
    {
     "data": {
      "text/plain": [
       "array([0, 0, 0, 0, 0, 0, 0, 0, 0, 0, 0, 0, 0, 0, 0, 0, 0, 0, 0, 0, 0, 0,\n",
       "       0, 0, 0, 0, 1, 1, 1, 1, 1, 1, 1, 1, 1, 1, 1, 1, 1, 2, 2, 2, 2, 2,\n",
       "       2, 2, 2, 2, 2, 2, 2, 2, 2, 2, 2, 2, 3, 3, 3, 3, 3, 3, 3, 3, 3, 3,\n",
       "       3, 3, 3, 3, 3, 3, 3, 3, 3, 3, 3, 3, 3, 3, 4, 4, 4, 4, 4, 4, 4, 4,\n",
       "       4, 4, 4, 4, 4, 4, 4, 4, 4, 4, 4, 4, 4, 4, 5, 5, 5, 5, 5, 5, 5, 5,\n",
       "       5, 5, 5, 5, 5, 5, 5, 5, 5, 5, 5, 5, 5, 5, 5, 5, 5, 5, 5, 5, 5, 5,\n",
       "       5, 5, 5, 6, 6, 6, 6, 6, 6, 6, 6, 6, 7, 7, 7, 7, 7, 7, 7, 7, 7, 7,\n",
       "       7, 7, 7, 7, 7, 7, 7, 7, 7, 7, 7, 7, 7, 7, 7, 8, 8, 8, 8, 8, 8, 8,\n",
       "       8, 8, 8, 8, 8, 8, 8, 8, 8, 8, 8, 8, 8, 8, 8, 8])"
      ]
     },
     "execution_count": 6,
     "metadata": {},
     "output_type": "execute_result"
    }
   ],
   "source": [
    "#defining entities\n",
    "\n",
    "le = LE()\n",
    "\n",
    "from sentence_transformers import SentenceTransformer\n",
    "\n",
    "t_model = SentenceTransformer(\"Tranformer_saved\")\n",
    "\n",
    "\n",
    "\n",
    "le.fit(data['Class'])\n",
    "\n",
    "le.transform(data['Class'])"
   ]
  },
  {
   "cell_type": "code",
   "execution_count": 7,
   "metadata": {},
   "outputs": [],
   "source": [
    "def get_response(usrText):\n",
    "    \n",
    "    t_usr = t_model.encode([cleanup(usrText.strip().lower())])\n",
    "    class_ = le.inverse_transform(model.predict(t_usr))\n",
    "\n",
    "\n",
    "    questionset = data[data['Class'].values == class_]\n",
    "\n",
    "    cos_sims = []\n",
    "    for question in questionset['Question']:\n",
    "        sims = cosine_similarity(t_model.encode([question]), t_usr)\n",
    "\n",
    "        cos_sims.append(sims)\n",
    "\n",
    "    ind = cos_sims.index(max(cos_sims))\n",
    "\n",
    "    b = [questionset.index[ind]]\n",
    "    \n",
    "    r = data['Answer'][questionset.index[ind]]+\"   \"\n",
    "    \n",
    "    return r\n"
   ]
  },
  {
   "cell_type": "code",
   "execution_count": null,
   "metadata": {},
   "outputs": [
    {
     "name": "stdout",
     "output_type": "stream",
     "text": [
      " * Serving Flask app '__main__' (lazy loading)\n",
      " * Environment: production\n",
      "\u001b[31m   WARNING: This is a development server. Do not use it in a production deployment.\u001b[0m\n",
      "\u001b[2m   Use a production WSGI server instead.\u001b[0m\n",
      " * Debug mode: off\n"
     ]
    },
    {
     "name": "stderr",
     "output_type": "stream",
     "text": [
      " * Running on http://127.0.0.1:5000/ (Press CTRL+C to quit)\n",
      "127.0.0.1 - - [20/Mar/2022 16:40:25] \"GET / HTTP/1.1\" 200 -\n",
      "127.0.0.1 - - [20/Mar/2022 16:40:25] \"\u001b[36mGET /static/styles/style.css HTTP/1.1\u001b[0m\" 304 -\n",
      "127.0.0.1 - - [20/Mar/2022 16:40:34] \"GET /get?msg=What%20is%20the%20transaction%20limit%20for%20rtgs HTTP/1.1\" 200 -\n",
      "127.0.0.1 - - [20/Mar/2022 16:40:39] \"GET /get?msg=how%20much%20is%20rtgs%20charge%3F HTTP/1.1\" 200 -\n",
      "127.0.0.1 - - [20/Mar/2022 16:40:57] \"GET /get?msg=Cheapest%20interest%20rate HTTP/1.1\" 200 -\n",
      "127.0.0.1 - - [20/Mar/2022 16:41:09] \"GET /get?msg=Please%20tell%20me%20the%20IFSC%20code%20for%20my%20bank HTTP/1.1\" 200 -\n"
     ]
    }
   ],
   "source": [
    "from flask import Flask, render_template, request\n",
    "\n",
    "app = Flask(__name__)\n",
    "app.static_folder = 'static'\n",
    "\n",
    "@app.route(\"/\")\n",
    "def home():\n",
    "    return render_template(\"index.html\")\n",
    "\n",
    "@app.route(\"/get\")\n",
    "def get_bot_response():\n",
    "    userText = request.args.get('msg')\n",
    "    return get_response(userText)\n",
    "\n",
    "\n",
    "if __name__ == \"__main__\":\n",
    "    app.run()"
   ]
  },
  {
   "cell_type": "code",
   "execution_count": null,
   "metadata": {},
   "outputs": [],
   "source": []
  }
 ],
 "metadata": {
  "kernelspec": {
   "display_name": "chatbot",
   "language": "python",
   "name": "chatbot"
  },
  "language_info": {
   "codemirror_mode": {
    "name": "ipython",
    "version": 3
   },
   "file_extension": ".py",
   "mimetype": "text/x-python",
   "name": "python",
   "nbconvert_exporter": "python",
   "pygments_lexer": "ipython3",
   "version": "3.8.10"
  }
 },
 "nbformat": 4,
 "nbformat_minor": 4
}
