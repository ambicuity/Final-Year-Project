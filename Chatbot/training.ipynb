{
 "cells": [
  {
   "cell_type": "code",
   "execution_count": 1,
   "metadata": {},
   "outputs": [],
   "source": [
    "import pandas as pd\n",
    "import pickle\n",
    "import os\n",
    "from sklearn.svm import SVC\n",
    "from sklearn.model_selection import train_test_split as tts\n",
    "from sklearn.feature_extraction.text import TfidfVectorizer\n",
    "from sklearn.preprocessing import LabelEncoder as LE\n",
    "from sklearn.metrics.pairwise import cosine_similarity\n",
    "\n",
    "import nltk\n",
    "from nltk.corpus import stopwords\n",
    "import datetime\n",
    "\n",
    "import speech_recognition as sr\n",
    "import pyttsx3 \n",
    "import pyaudio"
   ]
  },
  {
   "cell_type": "code",
   "execution_count": 2,
   "metadata": {},
   "outputs": [
    {
     "data": {
      "text/html": [
       "<div>\n",
       "<style scoped>\n",
       "    .dataframe tbody tr th:only-of-type {\n",
       "        vertical-align: middle;\n",
       "    }\n",
       "\n",
       "    .dataframe tbody tr th {\n",
       "        vertical-align: top;\n",
       "    }\n",
       "\n",
       "    .dataframe thead th {\n",
       "        text-align: right;\n",
       "    }\n",
       "</style>\n",
       "<table border=\"1\" class=\"dataframe\">\n",
       "  <thead>\n",
       "    <tr style=\"text-align: right;\">\n",
       "      <th></th>\n",
       "      <th>Question</th>\n",
       "      <th>Answer</th>\n",
       "      <th>Category</th>\n",
       "    </tr>\n",
       "  </thead>\n",
       "  <tbody>\n",
       "    <tr>\n",
       "      <th>0</th>\n",
       "      <td>What is the definition of Basic Savings Bank ...</td>\n",
       "      <td>The Basic Savings Bank Deposit Account or BSBD...</td>\n",
       "      <td>Basic Savings Bank Deposit Account</td>\n",
       "    </tr>\n",
       "    <tr>\n",
       "      <th>1</th>\n",
       "      <td>Whether the guidelines issued on no-frills acc...</td>\n",
       "      <td>No. In supersession of instructions contained ...</td>\n",
       "      <td>Basic Savings Bank Deposit Account</td>\n",
       "    </tr>\n",
       "    <tr>\n",
       "      <th>2</th>\n",
       "      <td>Can an Individual have any number of 'Basic Sa...</td>\n",
       "      <td>No. An individual is eligible to have only one...</td>\n",
       "      <td>Basic Savings Bank Deposit Account</td>\n",
       "    </tr>\n",
       "    <tr>\n",
       "      <th>3</th>\n",
       "      <td>Whether a 'Basic Savings Bank Deposit Account'...</td>\n",
       "      <td>Holders of 'Basic Savings Bank Deposit Account...</td>\n",
       "      <td>Basic Savings Bank Deposit Account</td>\n",
       "    </tr>\n",
       "    <tr>\n",
       "      <th>4</th>\n",
       "      <td>Can an individual have other deposit accounts ...</td>\n",
       "      <td>Yes. One can have Term/Fixed Deposit, Recurrin...</td>\n",
       "      <td>Basic Savings Bank Deposit Account</td>\n",
       "    </tr>\n",
       "  </tbody>\n",
       "</table>\n",
       "</div>"
      ],
      "text/plain": [
       "                                            Question  \\\n",
       "0   What is the definition of Basic Savings Bank ...   \n",
       "1  Whether the guidelines issued on no-frills acc...   \n",
       "2  Can an Individual have any number of 'Basic Sa...   \n",
       "3  Whether a 'Basic Savings Bank Deposit Account'...   \n",
       "4  Can an individual have other deposit accounts ...   \n",
       "\n",
       "                                              Answer  \\\n",
       "0  The Basic Savings Bank Deposit Account or BSBD...   \n",
       "1  No. In supersession of instructions contained ...   \n",
       "2  No. An individual is eligible to have only one...   \n",
       "3  Holders of 'Basic Savings Bank Deposit Account...   \n",
       "4  Yes. One can have Term/Fixed Deposit, Recurrin...   \n",
       "\n",
       "                             Category  \n",
       "0  Basic Savings Bank Deposit Account  \n",
       "1  Basic Savings Bank Deposit Account  \n",
       "2  Basic Savings Bank Deposit Account  \n",
       "3  Basic Savings Bank Deposit Account  \n",
       "4  Basic Savings Bank Deposit Account  "
      ]
     },
     "execution_count": 2,
     "metadata": {},
     "output_type": "execute_result"
    }
   ],
   "source": [
    "# Reading csv file\n",
    "\n",
    "data = pd.read_csv(\"Chatbot Data.csv\", encoding = \"ISO-8859-1\", engine='python')\n",
    "\n",
    "data.head()"
   ]
  },
  {
   "cell_type": "code",
   "execution_count": null,
   "metadata": {},
   "outputs": [],
   "source": []
  },
  {
   "cell_type": "code",
   "execution_count": 3,
   "metadata": {},
   "outputs": [],
   "source": [
    "data.columns = ['Question','Answer','Class']"
   ]
  },
  {
   "cell_type": "code",
   "execution_count": 4,
   "metadata": {},
   "outputs": [],
   "source": [
    "#defining stopwords\n",
    "\n",
    "stop_words = set(stopwords.words('english'))"
   ]
  },
  {
   "cell_type": "code",
   "execution_count": 5,
   "metadata": {},
   "outputs": [],
   "source": [
    "# Defining label encoder and TfidfVectorizer\n",
    "\n",
    "le = LE()\n",
    "\n",
    "tfv = TfidfVectorizer(min_df=1, stop_words='english')"
   ]
  },
  {
   "cell_type": "code",
   "execution_count": 6,
   "metadata": {},
   "outputs": [],
   "source": [
    "questions = data['Question'].values"
   ]
  },
  {
   "cell_type": "code",
   "execution_count": 7,
   "metadata": {},
   "outputs": [],
   "source": [
    "#Tokenization and stopword removal\n",
    "\n",
    "def cleanup(sentence):\n",
    "\n",
    "\n",
    "\n",
    "\n",
    "    word_tok = nltk.word_tokenize(sentence)\n",
    "    stemmed_words = [w for w in word_tok if not w in stop_words]\n",
    "    #print(stemmed_words)\n",
    "\n",
    "    #stemmed_words = [stemmer.stem(w) for w in word_tok]\n",
    "\n",
    "\n",
    "\n",
    "    return ' '.join(stemmed_words)"
   ]
  },
  {
   "cell_type": "code",
   "execution_count": 8,
   "metadata": {},
   "outputs": [],
   "source": [
    "X = []\n",
    "\n",
    "for question in questions:\n",
    "    X.append(cleanup(str(question)))"
   ]
  },
  {
   "cell_type": "code",
   "execution_count": 9,
   "metadata": {},
   "outputs": [],
   "source": [
    "#vectorization\n",
    "\n",
    "#tfv.fit(X)\n",
    "\n",
    "from sentence_transformers import SentenceTransformer\n",
    "\n",
    "t_model = SentenceTransformer('sentence-transformers/all-MiniLM-L6-v2')\n",
    "\n",
    "le.fit(data['Class'])\n",
    "\n",
    "X = t_model.encode(X)\n",
    "\n",
    "y = le.transform(data['Class'])\n"
   ]
  },
  {
   "cell_type": "code",
   "execution_count": 10,
   "metadata": {},
   "outputs": [],
   "source": [
    "t_model.save(\"Tranformer_saved\")"
   ]
  },
  {
   "cell_type": "code",
   "execution_count": 11,
   "metadata": {},
   "outputs": [
    {
     "data": {
      "text/plain": [
       "SVC(kernel='linear')"
      ]
     },
     "execution_count": 11,
     "metadata": {},
     "output_type": "execute_result"
    }
   ],
   "source": [
    "model = SVC(kernel='linear')\n",
    "model.fit(X, y)"
   ]
  },
  {
   "cell_type": "code",
   "execution_count": 12,
   "metadata": {},
   "outputs": [],
   "source": [
    "#dumping the model\n",
    "\n",
    "with open('model_pkl', 'wb') as files:\n",
    "    pickle.dump(model, files)"
   ]
  },
  {
   "cell_type": "code",
   "execution_count": 13,
   "metadata": {},
   "outputs": [],
   "source": [
    "\n",
    "# #loading the model\n",
    "\n",
    "with open('model_pkl' , 'rb') as f:\n",
    "    lr = pickle.load(f)"
   ]
  },
  {
   "cell_type": "code",
   "execution_count": 14,
   "metadata": {},
   "outputs": [],
   "source": [
    "svm_predicted_values = model.predict(X)"
   ]
  },
  {
   "cell_type": "code",
   "execution_count": 15,
   "metadata": {},
   "outputs": [
    {
     "name": "stdout",
     "output_type": "stream",
     "text": [
      "SVM :  0.9896373056994818\n"
     ]
    }
   ],
   "source": [
    "from sklearn.metrics import accuracy_score\n",
    "\n",
    "print(\"SVM : \",accuracy_score(y, svm_predicted_values))"
   ]
  },
  {
   "cell_type": "code",
   "execution_count": null,
   "metadata": {},
   "outputs": [],
   "source": []
  }
 ],
 "metadata": {
  "kernelspec": {
   "display_name": "chatbot",
   "language": "python",
   "name": "chatbot"
  },
  "language_info": {
   "codemirror_mode": {
    "name": "ipython",
    "version": 3
   },
   "file_extension": ".py",
   "mimetype": "text/x-python",
   "name": "python",
   "nbconvert_exporter": "python",
   "pygments_lexer": "ipython3",
   "version": "3.8.3"
  }
 },
 "nbformat": 4,
 "nbformat_minor": 4
}
