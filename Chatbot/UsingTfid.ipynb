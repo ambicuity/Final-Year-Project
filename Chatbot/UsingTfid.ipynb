{
 "cells": [
  {
   "cell_type": "code",
   "execution_count": null,
   "metadata": {},
   "outputs": [],
   "source": [
    "# pip install chatterbot\n",
    "\n",
    "# tfidf\n",
    "# word2 vec\n",
    "# bert based word embeddings\n",
    "\n",
    "# pip install -U sentence-transformers\n",
    "\n",
    "# pip install ipywidgets"
   ]
  },
  {
   "cell_type": "code",
   "execution_count": null,
   "metadata": {},
   "outputs": [],
   "source": []
  },
  {
   "cell_type": "code",
   "execution_count": 1,
   "metadata": {},
   "outputs": [],
   "source": [
    "\n",
    "import pandas as pd\n",
    "import os\n",
    "from sklearn.svm import SVC\n",
    "from sklearn.model_selection import train_test_split as tts\n",
    "from sklearn.feature_extraction.text import TfidfVectorizer\n",
    "from sklearn.preprocessing import LabelEncoder as LE\n",
    "from sklearn.metrics.pairwise import cosine_similarity\n",
    "\n",
    "import nltk\n",
    "from nltk.corpus import stopwords\n",
    "import datetime\n",
    "\n",
    "import speech_recognition as sr\n",
    "import pyttsx3 \n",
    "import pyaudio\n"
   ]
  },
  {
   "cell_type": "code",
   "execution_count": 2,
   "metadata": {},
   "outputs": [
    {
     "data": {
      "text/html": [
       "<div>\n",
       "<style scoped>\n",
       "    .dataframe tbody tr th:only-of-type {\n",
       "        vertical-align: middle;\n",
       "    }\n",
       "\n",
       "    .dataframe tbody tr th {\n",
       "        vertical-align: top;\n",
       "    }\n",
       "\n",
       "    .dataframe thead th {\n",
       "        text-align: right;\n",
       "    }\n",
       "</style>\n",
       "<table border=\"1\" class=\"dataframe\">\n",
       "  <thead>\n",
       "    <tr style=\"text-align: right;\">\n",
       "      <th></th>\n",
       "      <th>Question</th>\n",
       "      <th>Answer</th>\n",
       "      <th>Category</th>\n",
       "    </tr>\n",
       "  </thead>\n",
       "  <tbody>\n",
       "    <tr>\n",
       "      <th>0</th>\n",
       "      <td>What is the definition of Basic Savings Bank ...</td>\n",
       "      <td>The Basic Savings Bank Deposit Account or BSBD...</td>\n",
       "      <td>Basic Savings Bank Deposit Account</td>\n",
       "    </tr>\n",
       "    <tr>\n",
       "      <th>1</th>\n",
       "      <td>Whether the guidelines issued on no-frills acc...</td>\n",
       "      <td>No. In supersession of instructions contained ...</td>\n",
       "      <td>Basic Savings Bank Deposit Account</td>\n",
       "    </tr>\n",
       "    <tr>\n",
       "      <th>2</th>\n",
       "      <td>Can an Individual have any number of 'Basic Sa...</td>\n",
       "      <td>No. An individual is eligible to have only one...</td>\n",
       "      <td>Basic Savings Bank Deposit Account</td>\n",
       "    </tr>\n",
       "    <tr>\n",
       "      <th>3</th>\n",
       "      <td>Whether a 'Basic Savings Bank Deposit Account'...</td>\n",
       "      <td>Holders of 'Basic Savings Bank Deposit Account...</td>\n",
       "      <td>Basic Savings Bank Deposit Account</td>\n",
       "    </tr>\n",
       "    <tr>\n",
       "      <th>4</th>\n",
       "      <td>Can an individual have other deposit accounts ...</td>\n",
       "      <td>Yes. One can have Term/Fixed Deposit, Recurrin...</td>\n",
       "      <td>Basic Savings Bank Deposit Account</td>\n",
       "    </tr>\n",
       "  </tbody>\n",
       "</table>\n",
       "</div>"
      ],
      "text/plain": [
       "                                            Question  \\\n",
       "0   What is the definition of Basic Savings Bank ...   \n",
       "1  Whether the guidelines issued on no-frills acc...   \n",
       "2  Can an Individual have any number of 'Basic Sa...   \n",
       "3  Whether a 'Basic Savings Bank Deposit Account'...   \n",
       "4  Can an individual have other deposit accounts ...   \n",
       "\n",
       "                                              Answer  \\\n",
       "0  The Basic Savings Bank Deposit Account or BSBD...   \n",
       "1  No. In supersession of instructions contained ...   \n",
       "2  No. An individual is eligible to have only one...   \n",
       "3  Holders of 'Basic Savings Bank Deposit Account...   \n",
       "4  Yes. One can have Term/Fixed Deposit, Recurrin...   \n",
       "\n",
       "                             Category  \n",
       "0  Basic Savings Bank Deposit Account  \n",
       "1  Basic Savings Bank Deposit Account  \n",
       "2  Basic Savings Bank Deposit Account  \n",
       "3  Basic Savings Bank Deposit Account  \n",
       "4  Basic Savings Bank Deposit Account  "
      ]
     },
     "execution_count": 2,
     "metadata": {},
     "output_type": "execute_result"
    }
   ],
   "source": [
    "# Reading csv file\n",
    "\n",
    "data = pd.read_csv(\"Chatbot Data.csv\", encoding = \"ISO-8859-1\", engine='python')\n",
    "\n",
    "data.head()"
   ]
  },
  {
   "cell_type": "code",
   "execution_count": 3,
   "metadata": {},
   "outputs": [
    {
     "data": {
      "text/plain": [
       "Question    False\n",
       "Answer      False\n",
       "Category    False\n",
       "dtype: bool"
      ]
     },
     "execution_count": 3,
     "metadata": {},
     "output_type": "execute_result"
    }
   ],
   "source": [
    "data.isna().any()"
   ]
  },
  {
   "cell_type": "code",
   "execution_count": 4,
   "metadata": {},
   "outputs": [],
   "source": [
    "data.columns = ['Question','Answer','Class']"
   ]
  },
  {
   "cell_type": "code",
   "execution_count": 5,
   "metadata": {},
   "outputs": [],
   "source": [
    "#defining stopwords\n",
    "\n",
    "stop_words = set(stopwords.words('english'))\n",
    "# print(stop_words)"
   ]
  },
  {
   "cell_type": "code",
   "execution_count": 6,
   "metadata": {},
   "outputs": [],
   "source": [
    "# Defining label encoder and TfidfVectorizer\n",
    "\n",
    "le = LE()\n",
    "\n",
    "tfv = TfidfVectorizer(min_df=1, stop_words='english')\n"
   ]
  },
  {
   "cell_type": "code",
   "execution_count": 7,
   "metadata": {},
   "outputs": [],
   "source": [
    "questions = data['Question'].values"
   ]
  },
  {
   "cell_type": "code",
   "execution_count": 8,
   "metadata": {},
   "outputs": [],
   "source": [
    "#Tokenization and stopword removal\n",
    "\n",
    "def cleanup(sentence):\n",
    "\n",
    "\n",
    "\n",
    "\n",
    "    word_tok = nltk.word_tokenize(sentence)\n",
    "    stemmed_words = [w for w in word_tok if not w in stop_words]\n",
    "    #print(stemmed_words)\n",
    "\n",
    "    #stemmed_words = [stemmer.stem(w) for w in word_tok]\n",
    "\n",
    "\n",
    "\n",
    "    return ' '.join(stemmed_words)\n"
   ]
  },
  {
   "cell_type": "code",
   "execution_count": null,
   "metadata": {},
   "outputs": [],
   "source": []
  },
  {
   "cell_type": "code",
   "execution_count": 9,
   "metadata": {},
   "outputs": [
    {
     "data": {
      "text/plain": [
       "'How much maximum amount transfer rtgs'"
      ]
     },
     "execution_count": 9,
     "metadata": {},
     "output_type": "execute_result"
    }
   ],
   "source": [
    "cleanup(\"How much maximum amount can we transfer through rtgs\")"
   ]
  },
  {
   "cell_type": "code",
   "execution_count": 10,
   "metadata": {},
   "outputs": [],
   "source": [
    "X = []\n",
    "\n",
    "for question in questions:\n",
    "    X.append(cleanup(question))"
   ]
  },
  {
   "cell_type": "code",
   "execution_count": 11,
   "metadata": {},
   "outputs": [
    {
     "data": {
      "text/plain": [
       "'Does Reserve Bank powers lay standards ?'"
      ]
     },
     "execution_count": 11,
     "metadata": {},
     "output_type": "execute_result"
    }
   ],
   "source": [
    "X[125]"
   ]
  },
  {
   "cell_type": "code",
   "execution_count": 12,
   "metadata": {},
   "outputs": [],
   "source": [
    "#vectorization\n",
    "\n",
    "tfv.fit(X)\n",
    "le.fit(data['Class'])\n",
    "\n",
    "X = tfv.transform(X)\n",
    "\n",
    "y = le.transform(data['Class'])\n",
    "\n",
    "trainx, testx, trainy, testy = tts(X, y, test_size=.3, random_state=42)"
   ]
  },
  {
   "cell_type": "code",
   "execution_count": 13,
   "metadata": {},
   "outputs": [],
   "source": [
    "model = SVC(kernel='linear')\n",
    "model.fit(trainx, trainy)\n",
    "\n",
    "\n",
    "class_=le.inverse_transform(model.predict(X))\n",
    "\n"
   ]
  },
  {
   "cell_type": "code",
   "execution_count": 14,
   "metadata": {},
   "outputs": [],
   "source": [
    "y_decoded = le.inverse_transform(y)"
   ]
  },
  {
   "cell_type": "code",
   "execution_count": 15,
   "metadata": {},
   "outputs": [
    {
     "data": {
      "text/plain": [
       "0.9481865284974094"
      ]
     },
     "execution_count": 15,
     "metadata": {},
     "output_type": "execute_result"
    }
   ],
   "source": [
    "from sklearn.metrics import accuracy_score\n",
    "\n",
    "accuracy_score(y_decoded, class_)"
   ]
  },
  {
   "cell_type": "code",
   "execution_count": 16,
   "metadata": {},
   "outputs": [],
   "source": [
    "def get_max5(arr):\n",
    "    ixarr = []\n",
    "    for ix, el in enumerate(arr):\n",
    "        ixarr.append((el, ix))\n",
    "\n",
    "\n",
    "    ixarr.sort()\n",
    "\n",
    "    ixs = []\n",
    "    for i in ixarr[-5:]:\n",
    "\n",
    "        ixs.append(i[1])\n",
    "\n",
    "    return ixs[::-1]\n"
   ]
  },
  {
   "cell_type": "code",
   "execution_count": 17,
   "metadata": {},
   "outputs": [],
   "source": [
    "def get_response(usrText):\n",
    "\n",
    "\n",
    "\n",
    "\n",
    "\n",
    "    while True:\n",
    "\n",
    "\n",
    "\n",
    "\n",
    "\n",
    "\n",
    "\n",
    "\n",
    "\n",
    "\n",
    "\n",
    "        if usrText.lower() == \"bye\":\n",
    "            return \"Bye\"\n",
    "\n",
    "\n",
    "\n",
    "        GREETING_INPUTS = [\"hello\", \"hi\", \"greetings\", \"sup\", \"what's up\", \"hey\",\"hiii\",\"hii\",\"yo\"]\n",
    "\n",
    "        a = [x.lower() for x in GREETING_INPUTS]\n",
    "\n",
    "        sd=[\"Thanks\",\"Welcome\"]\n",
    "\n",
    "        d = [x.lower() for x in sd]\n",
    "\n",
    "\n",
    "        am=[\"OK\"]\n",
    "\n",
    "        c = [x.lower() for x in am]\n",
    "\n",
    "       # ty = [\"getting\"]\n",
    "       # r = [x.lower() for x in ty]\n",
    "\n",
    "\n",
    "\n",
    "        t_usr = tfv.transform([cleanup(usrText.strip().lower())])\n",
    "        class_ = le.inverse_transform(model.predict(t_usr))\n",
    "\n",
    "        questionset = data[data['Class'].values == class_]\n",
    "\n",
    "        cos_sims = []\n",
    "        for question in questionset['Question']:\n",
    "            sims = cosine_similarity(tfv.transform([question]), t_usr)\n",
    "\n",
    "            cos_sims.append(sims)\n",
    "\n",
    "        ind = cos_sims.index(max(cos_sims))\n",
    "\n",
    "        b = [questionset.index[ind]]\n",
    "\n",
    "\n",
    "\n",
    "\n",
    "\n",
    "\n",
    "\n",
    "\n",
    "\n",
    "        if usrText.lower() in a:\n",
    "\n",
    "            return (\"Hi, I'm Finbot!\\U0001F60A\")\n",
    "\n",
    "\n",
    "        if usrText.lower() in c:\n",
    "            return \"Ok...Alright!\\U0001F64C\"\n",
    "\n",
    "        if usrText.lower() in d:\n",
    "            return (\"My pleasure! \\U0001F607\")\n",
    "\n",
    "\n",
    "\n",
    "        if max(cos_sims) > [[0.]]:\n",
    "            a = data['Answer'][questionset.index[ind]]+\"   \"\n",
    "            return a\n",
    "\n",
    "\n",
    "        elif max(cos_sims)==[[0.]]:\n",
    "           return \"sorry! \\U0001F605\""
   ]
  },
  {
   "cell_type": "code",
   "execution_count": 18,
   "metadata": {},
   "outputs": [],
   "source": [
    "def get_response2(usr):\n",
    "    if usr.lower() == \"bye\":\n",
    "        return \"Thanks for having conversation! \\U0001F60E\"\n",
    "\n",
    "    GREETING_INPUTS = [\"hello\", \"hi\", \"greetings\", \"sup\", \"what's up\", \"hey\",\"hii\",\"hiii\",\"hiiiii\",\"yo\",\"Hey there\"]\n",
    "\n",
    "    a = [x.lower() for x in GREETING_INPUTS]\n",
    "\n",
    "    sd = [\"Thanks\", \"Welcome\"]\n",
    "\n",
    "    d = [x.lower() for x in sd]\n",
    "\n",
    "    am = [\"OK\"]\n",
    "\n",
    "    c = [x.lower() for x in am]\n",
    "\n",
    "\n",
    "\n",
    "    t_usr = tfv.transform([cleanup(usr.strip().lower())])\n",
    "    class_ = le.inverse_transform(model.predict(t_usr))\n",
    "\n",
    "    questionset = data[data['Class'].values == class_]\n",
    "\n",
    "    cos_sims = []\n",
    "    for question in questionset['Question']:\n",
    "        sims = cosine_similarity(tfv.transform([question]), t_usr)\n",
    "\n",
    "        cos_sims.append(sims)\n",
    "\n",
    "    ind = cos_sims.index(max(cos_sims))\n",
    "\n",
    "    b = [questionset.index[ind]]\n",
    "\n",
    "    if usr.lower() in a:\n",
    "        return (\"you can ask me questions related to: Accounts, Investments, Funds, etc.\")\n",
    "\n",
    "    if usr.lower() in c:\n",
    "        return \" Cool! \\U0001f604\"\n",
    "\n",
    "    if usr.lower() in d:\n",
    "        return (\"\\U0001F44D\")\n",
    "\n",
    "\n",
    "\n",
    "\n",
    "    if max(cos_sims) == [[0.]]:\n",
    "        return \"I'm not able to solve this question at this moment. You can call to customer support 1860 999 9999 \\U0001F615\"\n",
    "\n",
    "    if max(cos_sims) > [[0.]]:\n",
    "\n",
    "        inds = get_max5(cos_sims)\n",
    "        print(inds)\n",
    "\n",
    "        b = \"(1)\" + data['Question'][questionset.index[0]]\n",
    "        c = \"(2)\" + data['Question'][questionset.index[1]]\n",
    "        d = \"(3)\" + data['Question'][questionset.index[2]]\n",
    "        e = \"(4)\" + data['Question'][questionset.index[3]]\n",
    "        f = \"(5)\" + data['Question'][questionset.index[4]]\n",
    "\n",
    "        return \"Following are the Recommended Questions----->\" + b + c + d + e + f\n"
   ]
  },
  {
   "cell_type": "code",
   "execution_count": 19,
   "metadata": {},
   "outputs": [],
   "source": [
    "def speech_to_text():\n",
    "    \n",
    "    r = sr.Recognizer() \n",
    "\n",
    "    try:\n",
    "\n",
    "            with sr.Microphone() as source2:\n",
    "\n",
    "                r.adjust_for_ambient_noise(source2, duration=0.2)\n",
    "\n",
    "                print(\"Start Talking : \\n\")\n",
    "\n",
    "                audio2 = r.listen(source2)\n",
    "\n",
    "                print(\"Recognizing : ......\\n\")\n",
    "                MyText = r.recognize_google(audio2)\n",
    "                MyText = MyText.lower()\n",
    "\n",
    "                print(\"\\nDid you say :   \"+MyText)\n",
    "                \n",
    "                return MyText\n",
    "\n",
    "    except sr.RequestError as e:\n",
    "        print(\"Could not request results; {0}\".format(e))\n",
    "\n",
    "    except sr.UnknownValueError:\n",
    "        print(\"unknown error occured\")\n",
    "    "
   ]
  },
  {
   "cell_type": "code",
   "execution_count": 20,
   "metadata": {},
   "outputs": [
    {
     "name": "stdout",
     "output_type": "stream",
     "text": [
      "[21, 18, 0, 17, 9]\n"
     ]
    },
    {
     "data": {
      "text/plain": [
       "'Following are the Recommended Questions----->(1)What is the lowest interest rate available on personal loans?(2)How does my income determine my interest rate?(3)How do my employment history and experience play a role in determining the rate of interest?(4)How does my credit score impact the cost of my loan?(5)How does my current debt level determine my interest rate?'"
      ]
     },
     "execution_count": 20,
     "metadata": {},
     "output_type": "execute_result"
    }
   ],
   "source": [
    "#trial\n",
    "#How does my credit score impact the cost of my loan?\n",
    "\n",
    "\n",
    "\n",
    "\n",
    "get_response2(\"personal loan interest rate\")"
   ]
  },
  {
   "cell_type": "code",
   "execution_count": 21,
   "metadata": {},
   "outputs": [
    {
     "data": {
      "text/plain": [
       "'Yes, you may be able to get a low rate. You can try and get a good rate by getting a co-applicant with good credit to apply along with you. Another way is to get a guarantor with good credit to back you up.   '"
      ]
     },
     "execution_count": 21,
     "metadata": {},
     "output_type": "execute_result"
    }
   ],
   "source": [
    "get_response(\"If I have a low credit score, can I still get a loan?\")"
   ]
  },
  {
   "cell_type": "code",
   "execution_count": 22,
   "metadata": {},
   "outputs": [
    {
     "name": "stdout",
     "output_type": "stream",
     "text": [
      "Welcome to finbot, you can ask me questions related to banking services!\n",
      "\n",
      "\n",
      "\n",
      "Advantages of Neft\n",
      "\n",
      "\n",
      "\n",
      "NEFT offers the following advantages for funds transfer or receipt: \n",
      "(i) Round the clock availability on all days of the year. \n",
      "(ii) Near-real-time funds transfer to the beneficiary account and settlement in a secure manner. \n",
      "(iii) Pan-India coverage through large network of branches of all types of banks. \n",
      "(iv) Positive confirmation to the remitter by SMS / e-mail on credit to beneficiary account. \n",
      "(v) Penal interest provision for delay in credit or return of transactions. \n",
      "(vi) No levy of charges by RBI from banks. No charges to savings bank account customers for online NEFT transactions. \n",
      "(vii) Besides funds transfer, NEFT system can be used for a variety of transactions including payment of credit card dues to the card issuing banks, payment of loan EMI, inward foreign exchange remittances, etc. \n",
      "(viii) Available for one-way funds transfers from India to Nepal.   \n",
      "\n",
      "\n",
      "\n",
      "Would you like to continue talking to me. If no, please press 0 to exit\n",
      "0\n",
      "\n",
      "\n",
      "\n",
      "Thank you for using finbot\n"
     ]
    }
   ],
   "source": [
    "#normal chat based\n",
    "\n",
    "print(\"Welcome to finbot, you can ask me questions related to banking services!\\n\\n\\n\")\n",
    "while(1):\n",
    "  \n",
    "    user_input = input(\"\")\n",
    "    if user_input!=\"0\":\n",
    "        print(\"\\n\\n\\n\"+get_response(user_input))\n",
    "        \n",
    "        print(\"\\n\\n\\nWould you like to continue talking to me. If no, please press 0 to exit\")\n",
    "    else:\n",
    "        print(\"\\n\\n\\nThank you for using finbot\")\n",
    "        break\n",
    "        \n",
    "    \n",
    "\n",
    "        \n",
    "        \n",
    "        "
   ]
  },
  {
   "cell_type": "code",
   "execution_count": null,
   "metadata": {},
   "outputs": [
    {
     "name": "stdout",
     "output_type": "stream",
     "text": [
      "Welcome to finbot, you can ask me questions related to banking services!\n",
      "\n",
      "\n",
      "\n",
      "Start Talking : \n",
      "\n"
     ]
    }
   ],
   "source": [
    "#Speech based \n",
    "\n",
    "print(\"Welcome to finbot, you can ask me questions related to banking services!\\n\\n\\n\")\n",
    "while(1):\n",
    "  \n",
    "    user_input = speech_to_text()\n",
    "    if user_input!=\"0\":\n",
    "        print(\"\\n\\n\\n\"+get_response(user_input))\n",
    "        \n",
    "        print(\"\\n\\n\\nWould you like to continue talking to me. If no, please say 0 to exit\")\n",
    "    else:\n",
    "        print(\"\\n\\n\\nThank you for using finbot\")\n",
    "        break\n",
    "        \n",
    "    \n"
   ]
  },
  {
   "cell_type": "code",
   "execution_count": 25,
   "metadata": {},
   "outputs": [
    {
     "name": "stdout",
     "output_type": "stream",
     "text": [
      "Start talking\n",
      "Start Talking : \n",
      "\n",
      "Recognizing : ......\n",
      "\n",
      "\n",
      "Did you say :   advantages of rtgs\n",
      "\n",
      "\n",
      "\n",
      "RTGS offers many advantages over the other modes of funds transfer: \n",
      "(1) It is a safe and secure system for funds transfer. \n",
      "(2) RTGS transactions / transfers have no amount cap. \n",
      "(3) The system is available on all days on 24x7x365 basis. \n",
      "(4) There is real time transfer of funds to the beneficiary account. \n",
      "(5) The remitter need not use a physical cheque or a demand draft. \n",
      "(6) The beneficiary need not visit a bank branch for depositing the paper instruments. \n",
      "(7) The beneficiary need not be apprehensive about loss / theft of physical instruments or the likelihood of fraudulent encashment thereof. \n",
      "(8) Remitter can initiate the remittances from his / her home / place of work using internet banking, if his / her bank offers such service. \n",
      "(9) The transaction charges have been capped by RBI. The transaction has legal backing.   \n"
     ]
    }
   ],
   "source": [
    "# Testing speech to text\n",
    "print(\"Start talking\")\n",
    "\n",
    "user_input = speech_to_text()\n",
    "\n",
    "print(\"\\n\\n\\n\"+get_response(user_input))"
   ]
  },
  {
   "cell_type": "code",
   "execution_count": null,
   "metadata": {},
   "outputs": [],
   "source": []
  }
 ],
 "metadata": {
  "kernelspec": {
   "display_name": "chatbot",
   "language": "python",
   "name": "chatbot"
  },
  "language_info": {
   "codemirror_mode": {
    "name": "ipython",
    "version": 3
   },
   "file_extension": ".py",
   "mimetype": "text/x-python",
   "name": "python",
   "nbconvert_exporter": "python",
   "pygments_lexer": "ipython3",
   "version": "3.8.3"
  }
 },
 "nbformat": 4,
 "nbformat_minor": 4
}
